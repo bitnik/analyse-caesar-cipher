{
 "cells": [
  {
   "cell_type": "markdown",
   "id": "74ce4fb6-cb51-4584-97e5-a1cf0b80b9d1",
   "metadata": {},
   "source": [
    "# Frequency Analysis on Caesar Cipher"
   ]
  },
  {
   "cell_type": "markdown",
   "id": "dd91c6a6-4ee4-4ed0-b312-f6756acd729c",
   "metadata": {},
   "source": [
    "## Classical Ciphers"
   ]
  },
  {
   "cell_type": "markdown",
   "id": "bd4abb39-6763-40cc-b430-d40bddbba748",
   "metadata": {},
   "source": [
    "https://en.wikipedia.org/wiki/Classical_cipher"
   ]
  },
  {
   "cell_type": "markdown",
   "id": "6601590e-d5eb-4082-aa12-7e0ef73c97d0",
   "metadata": {},
   "source": [
    "## Encryption and Decryption"
   ]
  },
  {
   "cell_type": "markdown",
   "id": "6140cc13-7e3b-46f0-b902-ab80630caee9",
   "metadata": {},
   "source": [
    "In the Caesar Cipher, the encryption method is substituting each letter of the plain text with another letter using a numeric integer key. I will use the letter `k` to denote the key and the letter `p` to denote the plain text. The substitution is performed in the following manner: each letter in `p` is replaced with a letter that is `k` letters after it in the alphabet, for example with `k=1` the letter `A` would be substituted with the letter `B`, the letter `E` would be substituted with the letter `F` and the letter `Z` would be substituted with the letter `A`. From this explanation we can derive a mathematical function for **decryption** and **encryption** of the Caesar Cipher.\n",
    "\n",
    "For `x` is the letter to be encrypted, we can use the formula `E(x) = (x + k) mod 26` to encrypt and `E(x) = (x - k) mod 26` to decrypt.\n",
    "\n",
    "Note: `k≥26` is equivalent to `k = k mod 26` because the size of the English alphabet is 26.\n",
    "\n",
    "Ref: https://medium.com/@Nougat-Waffle/caesar-cipher-and-frequency-analysis-with-python-635b04e0186f\n"
   ]
  },
  {
   "cell_type": "code",
   "execution_count": null,
   "id": "5b962956-7010-4ff4-b523-7b8a1486a4c0",
   "metadata": {},
   "outputs": [],
   "source": [
    "from string import ascii_lowercase\n",
    "\n",
    "ALPHABET = ascii_lowercase  # abcdefghijklmnopqrstuvwxyz\n",
    "ALPHABET_SIZE = len(ALPHABET)\n",
    "print(f\"Alphabet: {ALPHABET}, Size: {ALPHABET_SIZE}\")\n",
    "\n",
    "\n",
    "def _crypt(text: str, key: int) -> str:\n",
    "    \"\"\"\n",
    "    Encrypt or decrypt the text. Pass a negative key to decrypt.\n",
    "    \"\"\"\n",
    "    output = \"\"\n",
    "\n",
    "    for char in text:\n",
    "        # If the character is not in the english alphabet don't change it.\n",
    "        if not char.isalpha():\n",
    "            output += char\n",
    "            continue\n",
    "\n",
    "        index = ALPHABET.index(char.lower())\n",
    "        # E(x) = (x +/- k) mod 26\n",
    "        new_char = ALPHABET[(index + key) % ALPHABET_SIZE]\n",
    "\n",
    "        # Setting the right case for the letter and adding it to the output\n",
    "        output += new_char.upper() if char.isupper() else new_char\n",
    "\n",
    "    return output\n",
    "\n",
    "\n",
    "def encrypt(plain_text: str, key: int) -> str:\n",
    "    return _crypt(plain_text, key)\n",
    "\n",
    "\n",
    "def decrypt(cipher_text: str, key: int) -> str:\n",
    "    # Ensure that the key is negative.\n",
    "    key = -abs(key)\n",
    "    return _crypt(cipher_text, key)"
   ]
  },
  {
   "cell_type": "code",
   "execution_count": null,
   "id": "ecaa986e-a101-475e-9b24-af8b5355188a",
   "metadata": {},
   "outputs": [],
   "source": [
    "encrypt(\"a\", 1)"
   ]
  },
  {
   "cell_type": "code",
   "execution_count": null,
   "id": "172232a9-6c72-4bd6-b8c2-6018805a7d81",
   "metadata": {},
   "outputs": [],
   "source": [
    "decrypt(\"a\", 9)"
   ]
  },
  {
   "cell_type": "markdown",
   "id": "c269089b-6955-4c16-aed0-22b4d3302557",
   "metadata": {},
   "source": [
    "## Frequency Analysis"
   ]
  },
  {
   "cell_type": "markdown",
   "id": "03c75387-31b4-4f85-9eb7-b33a53978ef7",
   "metadata": {},
   "source": [
    "> In cryptanalysis, frequency analysis is the study of the frequency of letters or groups of letters in a ciphertext. The method is used as an aid to breaking classical ciphers."
   ]
  },
  {
   "cell_type": "code",
   "execution_count": null,
   "id": "0a8b4d6b-ff00-489e-b2e5-02b239a54cd2",
   "metadata": {},
   "outputs": [],
   "source": [
    "from urllib.request import urlopen\n",
    "\n",
    "# from collections import Counter\n",
    "import matplotlib.pyplot as plt\n",
    "\n",
    "# def calculate_letter_frequency(text: str) -> dict:\n",
    "#     letter_freq: dict = {}\n",
    "#     text = text.lower()\n",
    "#     total_count = 0\n",
    "#     for char in text:\n",
    "#         if char in ascii_lowercase and char not in letter_freq:\n",
    "#             letter_freq[char] = text.count(char)\n",
    "#     return letter_freq\n",
    "\n",
    "\n",
    "def calculate_letter_frequency(text: str) -> dict:\n",
    "    letter_freq: dict = {}\n",
    "    text = text.lower()\n",
    "    total_count = 0\n",
    "    for char in text:\n",
    "        if char in ascii_lowercase:\n",
    "            total_count += 1\n",
    "            if char not in letter_freq:\n",
    "                letter_freq[char] = text.count(char)\n",
    "    for l, f in letter_freq.items():\n",
    "        letter_freq[l] = f * 100 / total_count\n",
    "    return letter_freq\n",
    "\n",
    "\n",
    "def plot_histogram(dictionary, title=\"Frequency analysis\"):\n",
    "    sorted_items = sorted(dictionary.items(), key=lambda item: item[1], reverse=True)\n",
    "    keys = [item[0] for item in sorted_items]\n",
    "    values = [item[1] for item in sorted_items]\n",
    "\n",
    "    plt.bar(keys, values)\n",
    "    plt.xlabel(\"Characters\")\n",
    "    plt.ylabel(\"Frequency %\")\n",
    "    plt.title(title)\n",
    "    plt.show()\n",
    "\n",
    "\n",
    "url_hamlet = \"https://www.gutenberg.org/cache/epub/1787/pg1787.txt\"\n",
    "with urlopen(url_hamlet) as f:\n",
    "    text = f.read().decode(\"utf-8\").strip()\n",
    "    # print(Counter(text))\n",
    "    letter_freq = calculate_letter_frequency(text)\n",
    "    print(letter_freq)\n",
    "    plot_histogram(letter_freq)\n",
    "\n",
    "url_romeo_and_juliet = \"https://www.gutenberg.org/cache/epub/47960/pg47960.txt\"\n",
    "with urlopen(url_romeo_and_juliet) as f:\n",
    "    text = f.read().decode(\"utf-8\").strip()\n",
    "    letter_freq = calculate_letter_frequency(text)\n",
    "    print(letter_freq)\n",
    "    plot_histogram(letter_freq)"
   ]
  },
  {
   "cell_type": "code",
   "execution_count": null,
   "id": "c9776742-1006-4d6e-ba6f-e28db5eaacb2",
   "metadata": {},
   "outputs": [],
   "source": [
    "# Taken from https://en.wikipedia.org/wiki/Letter_frequency.\n",
    "# Values are percentage.\n",
    "LETTER_FREQUENCY = {\n",
    "    \"e\": 12.7,\n",
    "    \"t\": 9.1,\n",
    "    \"a\": 8.2,\n",
    "    \"o\": 7.5,\n",
    "    \"i\": 7.0,\n",
    "    \"n\": 6.7,\n",
    "    \"s\": 6.3,\n",
    "    \"h\": 6.1,\n",
    "    \"r\": 6.0,\n",
    "    \"d\": 4.25,\n",
    "    \"l\": 4.0,\n",
    "    \"c\": 2.8,\n",
    "    \"u\": 2.8,\n",
    "    \"m\": 2.4,\n",
    "    \"w\": 2.4,\n",
    "    \"f\": 2.2,\n",
    "    \"g\": 2.0,\n",
    "    \"y\": 2.0,\n",
    "    \"p\": 1.9,\n",
    "    \"b\": 1.5,\n",
    "    \"v\": 0.98,\n",
    "    \"k\": 0.77,\n",
    "    \"j\": 0.15,\n",
    "    \"x\": 0.15,\n",
    "    \"q\": 0.095,\n",
    "    \"z\": 0.074,\n",
    "}\n",
    "# print(sum(LETTER_FREQUENCY.values()))\n",
    "plot_histogram(LETTER_FREQUENCY)"
   ]
  },
  {
   "cell_type": "markdown",
   "id": "56460310-fecd-4fc4-b22b-a76828e4f307",
   "metadata": {},
   "source": [
    "TODO: add more documentation\n"
   ]
  },
  {
   "cell_type": "code",
   "execution_count": null,
   "id": "4021ad1b-6915-444f-81f4-7d92c5987203",
   "metadata": {},
   "outputs": [],
   "source": [
    "from math import inf\n",
    "\n",
    "\n",
    "def calculate_difference(text: str) -> float:\n",
    "    letter_freq = calculate_letter_frequency(text)\n",
    "    difference = (\n",
    "        sum([abs(letter_freq.get(letter, 0) - LETTER_FREQUENCY[letter]) for letter in ALPHABET]) / ALPHABET_SIZE\n",
    "    )\n",
    "    return difference\n",
    "\n",
    "\n",
    "def break_cipher(cipher_text: str) -> int:\n",
    "    lowest_difference = inf\n",
    "    encryption_key = 0\n",
    "\n",
    "    for key in range(1, ALPHABET_SIZE):\n",
    "        current_plain_text = decrypt(cipher_text, key)\n",
    "        current_difference = calculate_difference(current_plain_text)\n",
    "        if current_difference < lowest_difference:\n",
    "            lowest_difference = current_difference\n",
    "            encryption_key = key\n",
    "            print(f\"break_cipher -> encryption_key: {encryption_key}, lowest_difference: {lowest_difference}\")\n",
    "    return encryption_key"
   ]
  },
  {
   "cell_type": "markdown",
   "id": "645e036f-896b-4668-9219-1c40f669b17e",
   "metadata": {},
   "source": [
    "## Demo"
   ]
  },
  {
   "cell_type": "code",
   "execution_count": null,
   "id": "058099ed-d266-4ce1-80b1-17371492bedd",
   "metadata": {},
   "outputs": [],
   "source": [
    "# Ex: Brvruja rmnjb jan dbnm rw vxmnaw mjcj-lxvyanbbrxw cnlqwrzdnb bdlq jb Qdoovjw lxmrwp.\n",
    "# https://cryptii.com/pipes/caesar-cipher\n",
    "print(\"\")\n",
    "example_encrypted_text = input(\"Give me a cipher text to break:\")\n",
    "print(\"\")\n",
    "\n",
    "letter_freq = calculate_letter_frequency(example_encrypted_text)\n",
    "plot_histogram(letter_freq, title=\"Frequency analysis of given encrypted text\")\n",
    "plot_histogram(LETTER_FREQUENCY, title=\"Frequency analysis of English alphabet\")\n",
    "\n",
    "encryption_key = break_cipher(example_encrypted_text)\n",
    "print(\"\")\n",
    "decrypted_text = decrypt(example_encrypted_text, encryption_key)\n",
    "print(f\"Decrypted text: {decrypted_text}\")"
   ]
  },
  {
   "cell_type": "code",
   "execution_count": null,
   "id": "735b666f-c421-456b-9d05-28d9e561e5b3",
   "metadata": {},
   "outputs": [],
   "source": []
  },
  {
   "cell_type": "code",
   "execution_count": null,
   "id": "c5bd127e-8719-4033-be97-aa651d2904b6",
   "metadata": {},
   "outputs": [],
   "source": [
    "# example = \"My name is John.\"\n",
    "# print(example)\n",
    "# letter_freq = calculate_letter_frequency(example)\n",
    "# plot_histogram(letter_freq)\n",
    "\n",
    "# encrypted_text = encrypt(example, 9)\n",
    "# print(encrypted_text)\n",
    "# letter_freq = calculate_letter_frequency(encrypted_text)\n",
    "# plot_histogram(letter_freq)\n",
    "\n",
    "# encryption_key = break_cipher(encrypted_text)\n",
    "# print(encryption_key)\n",
    "\n",
    "# decrypt(encrypted_text, encryption_key)"
   ]
  },
  {
   "cell_type": "code",
   "execution_count": null,
   "id": "1a832c25-23c9-4939-92fe-00395daee435",
   "metadata": {},
   "outputs": [],
   "source": [
    "# # https://cryptii.com/pipes/caesar-cipher\n",
    "# # If he had anything confidential to say, he wrote it in cipher, that is, by so changing the order of the letters of the alphabet, that not a word could be made out.\n",
    "# example = \"Vs ur unq nalguvat pbasvqragvny gb fnl, ur jebgr vg va pvcure, gung vf, ol fb punatvat gur beqre bs gur yrggref bs gur nycunorg, gung abg n jbeq pbhyq or znqr bhg.\"\n",
    "# encryption_key = break_cipher(example)\n",
    "# print(encryption_key)\n",
    "# decrypt(example, encryption_key)"
   ]
  },
  {
   "cell_type": "code",
   "execution_count": null,
   "id": "14b70d87-19d9-48db-aa84-a1d44cf17dda",
   "metadata": {},
   "outputs": [],
   "source": []
  }
 ],
 "metadata": {
  "kernelspec": {
   "display_name": "Python 3 (ipykernel)",
   "language": "python",
   "name": "python3"
  },
  "language_info": {
   "codemirror_mode": {
    "name": "ipython",
    "version": 3
   },
   "file_extension": ".py",
   "mimetype": "text/x-python",
   "name": "python",
   "nbconvert_exporter": "python",
   "pygments_lexer": "ipython3",
   "version": "3.12.5"
  }
 },
 "nbformat": 4,
 "nbformat_minor": 5
}
